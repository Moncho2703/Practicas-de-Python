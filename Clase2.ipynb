{
  "nbformat": 4,
  "nbformat_minor": 0,
  "metadata": {
    "colab": {
      "name": "Clase2.ipynb",
      "provenance": [],
      "collapsed_sections": [],
      "include_colab_link": true
    },
    "kernelspec": {
      "name": "python3",
      "display_name": "Python 3"
    }
  },
  "cells": [
    {
      "cell_type": "markdown",
      "metadata": {
        "id": "view-in-github",
        "colab_type": "text"
      },
      "source": [
        "<a href=\"https://colab.research.google.com/github/Moncho2703/Practicas-de-Python/blob/master/Clase2.ipynb\" target=\"_parent\"><img src=\"https://colab.research.google.com/assets/colab-badge.svg\" alt=\"Open In Colab\"/></a>"
      ]
    },
    {
      "cell_type": "markdown",
      "metadata": {
        "id": "yv0opuLGSsKE",
        "colab_type": "text"
      },
      "source": [
        "##**Clase 2**\n",
        "\n",
        "Este código esta orientado a las practicas de iniciación en python.\n",
        "\n"
      ]
    },
    {
      "cell_type": "markdown",
      "metadata": {
        "id": "upZ-NVisiG5y",
        "colab_type": "text"
      },
      "source": [
        "## **Tipos de variables**\n",
        "\n",
        "### Existen diferentes tipos de variables entre ellas:\n",
        "\n",
        "![Tipos de variables](https://i1.wp.com/rduinostar.com/wp-content/uploads/2012/10/Tipos-de-Variables-Arduino.jpg)\n",
        "\n",
        "Imagen de rduinostar disponible en el siguiente URL:\n",
        "\n",
        "https://i1.wp.com/rduinostar.com/wp-content/uploads/2012/10/Tipos-de-Variables-Arduino.jpg"
      ]
    },
    {
      "cell_type": "code",
      "metadata": {
        "id": "mfermE6krvLr",
        "colab_type": "code",
        "colab": {}
      },
      "source": [
        "# Tipos de variables mas comunes\n",
        "\n",
        "boolean = True\n",
        "string = \"Hello World\"\n",
        "intt = 2\n",
        "floatt = 2.5648\n",
        "lista = [0, 'a', \"Hola\", 54.6586]"
      ],
      "execution_count": null,
      "outputs": []
    },
    {
      "cell_type": "code",
      "metadata": {
        "id": "9ritv0HwsiN0",
        "colab_type": "code",
        "colab": {
          "base_uri": "https://localhost:8080/",
          "height": 109
        },
        "outputId": "8556d357-74d8-46c3-d64e-4a3f020b12b0"
      },
      "source": [
        "print(type(boolean))\n",
        "print(type(string))\n",
        "print(type(intt))\n",
        "print(type(floatt))\n",
        "print(type(lista))\n"
      ],
      "execution_count": null,
      "outputs": [
        {
          "output_type": "stream",
          "text": [
            "<class 'bool'>\n",
            "<class 'str'>\n",
            "<class 'int'>\n",
            "<class 'float'>\n",
            "<class 'list'>\n"
          ],
          "name": "stdout"
        }
      ]
    },
    {
      "cell_type": "markdown",
      "metadata": {
        "id": "X8WcSXUQocrl",
        "colab_type": "text"
      },
      "source": [
        "## **Input**"
      ]
    },
    {
      "cell_type": "markdown",
      "metadata": {
        "id": "T58TycWTUxkW",
        "colab_type": "text"
      },
      "source": [
        "### Esta clase esta orientada al uso del comando input() para recibir valores de entrada y realizar operaciones matemáticas con estos valores."
      ]
    },
    {
      "cell_type": "code",
      "metadata": {
        "id": "N6a27himtk3Q",
        "colab_type": "code",
        "colab": {
          "base_uri": "https://localhost:8080/",
          "height": 54
        },
        "outputId": "b1a95b41-ac2b-458d-e94f-88580357a3ed"
      },
      "source": [
        "entrada = input(\"Ingresa una entrada: \")\n",
        "print(entrada)\n"
      ],
      "execution_count": null,
      "outputs": [
        {
          "output_type": "stream",
          "text": [
            "Ingresa una entrada: 10\n",
            "10\n"
          ],
          "name": "stdout"
        }
      ]
    },
    {
      "cell_type": "code",
      "metadata": {
        "id": "vOzAL26qwDQI",
        "colab_type": "code",
        "colab": {
          "base_uri": "https://localhost:8080/",
          "height": 54
        },
        "outputId": "ad27cd78-7eac-4d3b-8235-ce2831aee967"
      },
      "source": [
        "entrada = input(\"Ingresa una entrada: \")\n",
        "print(\"Hola señor \" + entrada)\n"
      ],
      "execution_count": null,
      "outputs": [
        {
          "output_type": "stream",
          "text": [
            "Ingresa una entrada: Ramón\n",
            "Hola señor Ramón\n"
          ],
          "name": "stdout"
        }
      ]
    },
    {
      "cell_type": "markdown",
      "metadata": {
        "id": "-fQ-P7dWopob",
        "colab_type": "text"
      },
      "source": [
        "## **Operaciones matemáticas**\n",
        "\n",
        "Las operaciones matemáticas se evaluan de la siguiente manera:\n",
        "\n",
        "      (+)Suma\n",
        "      (-)Resta\n",
        "      (*)Multiplicación\n",
        "      (/)División"
      ]
    },
    {
      "cell_type": "code",
      "metadata": {
        "id": "EcIy2gbcqGGt",
        "colab_type": "code",
        "colab": {
          "base_uri": "https://localhost:8080/",
          "height": 90
        },
        "outputId": "330e1cc6-4165-4fdc-a47b-69e6314ef9b7"
      },
      "source": [
        "# Numero entero\n",
        "numero_1 = 1\n",
        "# Numero entero\n",
        "numero_2 = 2\n",
        "\n",
        "# Suma\n",
        "suma = numero_1 + numero_2\n",
        "print(\"El resultado de la suma es de \" + str(suma))\n",
        "\n",
        "# Resta\n",
        "resta = numero_1 - numero_2\n",
        "print(\"El resultado de la resta es de \" + str(resta))\n",
        "\n",
        "# Multiplicación\n",
        "multiplicacion = numero_1 * numero_2\n",
        "print(\"El resultado de la multiplicacion es de \" + str(multiplicacion))\n",
        "\n",
        "# División\n",
        "division = numero_1 / numero_2\n",
        "print(\"El resultado de la division es de \" + str(division))\n"
      ],
      "execution_count": null,
      "outputs": [
        {
          "output_type": "stream",
          "text": [
            "El resultado de la suma es de 3\n",
            "El resultado de la resta es de -1\n",
            "El resultado de la multiplicacion es de 2\n",
            "El resultado de la division es de 0.5\n"
          ],
          "name": "stdout"
        }
      ]
    },
    {
      "cell_type": "code",
      "metadata": {
        "id": "Y6KrrORew75n",
        "colab_type": "code",
        "colab": {
          "base_uri": "https://localhost:8080/",
          "height": 146
        },
        "outputId": "85ce5086-e95f-4eef-b28e-c5195a357b75"
      },
      "source": [
        "numero_1 = float(input(\"Ingrese el numero 1: \"))\n",
        "numero_2 = float(input(\"Ingrese el numero 2: \"))\n",
        "print()\n",
        "\n",
        "# Suma\n",
        "suma = numero_1 + numero_2\n",
        "print(\"El resultado de la suma es de \" + str(suma))\n",
        "\n",
        "# Resta\n",
        "resta = numero_1 - numero_2\n",
        "print(\"El resultado de la resta es de \" + str(resta))\n",
        "\n",
        "# Multiplicación\n",
        "multiplicacion = numero_1 * numero_2\n",
        "print(\"El resultado de la multiplicacion es de \" + str(multiplicacion))\n",
        "\n",
        "# División\n",
        "division = numero_1 / numero_2\n",
        "print(\"El resultado de la division es de \" + str(division))\n"
      ],
      "execution_count": null,
      "outputs": [
        {
          "output_type": "stream",
          "text": [
            "Ingrese el numero 1: 3\n",
            "Ingrese el numero 2: 6\n",
            "\n",
            "El resultado de la suma es de 9.0\n",
            "El resultado de la resta es de -3.0\n",
            "El resultado de la multiplicacion es de 18.0\n",
            "El resultado de la division es de 0.5\n"
          ],
          "name": "stdout"
        }
      ]
    },
    {
      "cell_type": "markdown",
      "metadata": {
        "id": "6oqyqCmzrVbd",
        "colab_type": "text"
      },
      "source": [
        "Como acceder a elementos en listas"
      ]
    },
    {
      "cell_type": "code",
      "metadata": {
        "id": "SH41CiLorYv9",
        "colab_type": "code",
        "colab": {
          "base_uri": "https://localhost:8080/",
          "height": 35
        },
        "outputId": "ce04cadd-9a05-4bbb-be3e-5469b6f3e61f"
      },
      "source": [
        "lista = ['Hola ', 30, \"Buenos dias \", 2.54]\n",
        "\n",
        "print(lista[0])\n"
      ],
      "execution_count": null,
      "outputs": [
        {
          "output_type": "stream",
          "text": [
            "Hola \n"
          ],
          "name": "stdout"
        }
      ]
    },
    {
      "cell_type": "code",
      "metadata": {
        "id": "raWubsDwruIu",
        "colab_type": "code",
        "colab": {
          "base_uri": "https://localhost:8080/",
          "height": 90
        },
        "outputId": "32098289-d2dc-432b-f820-ecce5f86fbe2"
      },
      "source": [
        "print(lista[0] + \"Ramón\")\n",
        "print(lista[1] + 10)\n",
        "print(lista[2] + 'Mundo')\n",
        "print(lista[3] + 2.32)"
      ],
      "execution_count": null,
      "outputs": [
        {
          "output_type": "stream",
          "text": [
            "Hola Ramón\n",
            "40\n",
            "Buenos dias Mundo\n",
            "4.859999999999999\n"
          ],
          "name": "stdout"
        }
      ]
    },
    {
      "cell_type": "markdown",
      "metadata": {
        "id": "C3_hfNCcU0x9",
        "colab_type": "text"
      },
      "source": [
        "## **FORMULAS DE MAYOR USO EN PERFORACION**\n",
        "\n",
        "### Peso máximo disponible sobre la mecha en un pozo dirigido ( lbs.)\n",
        "\n",
        "**P = W x Cos(I)**\n",
        "\n",
        "W = Peso total del BHA (considerando factor de flotación)\n",
        "\n",
        "I = Grados de inclinación"
      ]
    },
    {
      "cell_type": "code",
      "metadata": {
        "id": "PHyeYjVaUxP8",
        "colab_type": "code",
        "colab": {
          "base_uri": "https://localhost:8080/",
          "height": 127
        },
        "outputId": "e519d42d-3efe-4fdf-eb8c-5022070a0606"
      },
      "source": [
        "import math\n",
        "\n",
        "W = float(input(\"Ingrese del valor de flotación del lodo: \"))\n",
        "I = float(input(\"Ingrese el grado de inclinación de la perforación: \"))\n",
        "print() #Espacio\n",
        "\n",
        "I = math.cos(math.radians(I))\n",
        "\n",
        "P = W * I\n",
        "\n",
        "#Redondea a 4 decimales\n",
        "#P = round(W * I, 4)\n",
        "\n",
        "print(\"El peso máximo disponible sobre la mecha del poso dirigido es de:\")\n",
        "print(str(P) + \" Lbs\")\n",
        "print() #Espacio"
      ],
      "execution_count": null,
      "outputs": [
        {
          "output_type": "stream",
          "text": [
            "Ingrese del valor de flotación del lodo: 10\n",
            "Ingrese el grado de inclinación de la perforación: 80\n",
            "\n",
            "El peso máximo disponible sobre la mecha del poso dirigido es de:\n",
            "1.7364817766693041 Lbs\n",
            "\n"
          ],
          "name": "stdout"
        }
      ]
    },
    {
      "cell_type": "markdown",
      "metadata": {
        "id": "HqtiDFJFWDt2",
        "colab_type": "text"
      },
      "source": [
        "### Determinación de la profundidad vertical verdadera (TVD )\n",
        "\n",
        "**TVD2 = Cos(I) x CL x TVD1** (Nueva profundidad verdadera)\n",
        "\n",
        "\n",
        "I = Grados de inclinación\n",
        "\n",
        "CL = Long. del curso-numero de pies desde la última desviación\n",
        "\n",
        "TVD1 = Última profundidad verdadera\n"
      ]
    },
    {
      "cell_type": "code",
      "metadata": {
        "id": "20jTgA5UXMWA",
        "colab_type": "code",
        "colab": {
          "base_uri": "https://localhost:8080/",
          "height": 146
        },
        "outputId": "a4d17387-8c0f-40c5-bf76-3743daac44f8"
      },
      "source": [
        "import math\n",
        "\n",
        "I = float(input(\"Ingrese el grado de inclinación de la perforación: \"))\n",
        "CL = float(input(\"Ingrese la longitud en 'ft' desde la última desviación obtenida: \"))\n",
        "TVD1 = float(input(\"Ingrese la última profundidad vertical verdadera en 'ft' tomada: \"))\n",
        "print() #Espacio\n",
        "\n",
        "I = math.cos(math.radians(I))\n",
        "\n",
        "TVD2 = I * CL * TVD1\n",
        "\n",
        "# Redondea a 4 decimales\n",
        "#TVD2 = round(I * CL * TVD1, 4)\n",
        "\n",
        "print(\"La profundidad vertical verdadera actual (TVD) es de:\")\n",
        "print(str(TVD2) + \" ft\")\n",
        "print() #Espacio"
      ],
      "execution_count": null,
      "outputs": [
        {
          "output_type": "stream",
          "text": [
            "Ingrese el grado de inclinación de la perforación: 10\n",
            "Ingrese la longitud en 'ft' desde la última desviación obtenida: 50\n",
            "Ingrese la última profundidad vertical verdadera en 'ft' tomada: 40\n",
            "\n",
            "La profundidad vertical verdadera actual (TVD) es de:\n",
            "1969.615506024416 ft\n",
            "\n"
          ],
          "name": "stdout"
        }
      ]
    },
    {
      "cell_type": "markdown",
      "metadata": {
        "id": "v9571G2xXNQz",
        "colab_type": "text"
      },
      "source": [
        "### Caida de presión en el sistema de superficie (P.S.I.)\n",
        "\n",
        "**CPSS = C x Mw x (Q/100) ^ 1.86** (Caída de presión sist. Superf.)\n",
        "\n",
        "C = Coeficiente de fricción para el equip. Sup.\n",
        "\n",
        "\n",
        "Mw = Peso del lodo (lbs/gl)\n",
        "\n",
        "Q = Caudal de circulación (gpm.)\n"
      ]
    },
    {
      "cell_type": "code",
      "metadata": {
        "id": "abpGLb8kYGOl",
        "colab_type": "code",
        "colab": {
          "base_uri": "https://localhost:8080/",
          "height": 146
        },
        "outputId": "410891f3-c7a5-410e-ee50-bc7ad473fe69"
      },
      "source": [
        "###############################################\n",
        "# Tipos de equipos de superficie    #    C    #\n",
        "###############################################\n",
        "#              1                    #    1    #\n",
        "###############################################\n",
        "#              2                    #   0.36  #\n",
        "###############################################\n",
        "#              3                    #   0.22  #\n",
        "###############################################\n",
        "#              4                    #   0.15  #\n",
        "###############################################\n",
        "\n",
        "C = float(input(\"Ingrese coficiente de perforación para el equipo superficial: \"))\n",
        "Mw = float(input(\"Ingrese el peso del lodo en (lbs/gl): \"))\n",
        "Q = float(input(\"Ingrese el caudal de circulación en (gpm): \"))\n",
        "print() #Espacio\n",
        "\n",
        "Base = (C * Mw * (Q / 100)) \n",
        "\n",
        "CPSS = Base ** 1.86\n",
        "\n",
        "#Redondea a 4 decimales\n",
        "#CPSS = round(Base ** 1.86, 4)\n",
        "\n",
        "print(\"La profundidad vertical verdadera actual (TVD) es de:\")\n",
        "print(str(CPSS) + \" ft\")\n",
        "print() #Espacio"
      ],
      "execution_count": null,
      "outputs": [
        {
          "output_type": "stream",
          "text": [
            "Ingrese coficiente de perforación para el equipo superficial: 0.15\n",
            "Ingrese el peso del lodo en (lbs/gl): 10\n",
            "Ingrese el caudal de circulación en (gpm): 120\n",
            "\n",
            "La profundidad vertical verdadera actual (TVD) es de:\n",
            "2.9840552474106916 ft\n",
            "\n"
          ],
          "name": "stdout"
        }
      ]
    }
  ]
}