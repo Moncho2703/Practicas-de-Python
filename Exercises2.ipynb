{
  "nbformat": 4,
  "nbformat_minor": 0,
  "metadata": {
    "colab": {
      "name": "Exercises2.ipynb",
      "provenance": [],
      "collapsed_sections": [],
      "authorship_tag": "ABX9TyN2Xj3R4+5TtRQuHYAZUemP",
      "include_colab_link": true
    },
    "kernelspec": {
      "name": "python3",
      "display_name": "Python 3"
    }
  },
  "cells": [
    {
      "cell_type": "markdown",
      "metadata": {
        "id": "view-in-github",
        "colab_type": "text"
      },
      "source": [
        "<a href=\"https://colab.research.google.com/github/Moncho2703/Practicas-de-Python/blob/master/Exercises2.ipynb\" target=\"_parent\"><img src=\"https://colab.research.google.com/assets/colab-badge.svg\" alt=\"Open In Colab\"/></a>"
      ]
    },
    {
      "cell_type": "code",
      "metadata": {
        "id": "h5Le-JRIKWDa",
        "colab_type": "code",
        "colab": {
          "base_uri": "https://localhost:8080/",
          "height": 204
        },
        "outputId": "17d35bc4-3d8e-41af-8c51-1501762ddf14"
      },
      "source": [
        "'''\n",
        "Multiplication table printer\n",
        "'''\n",
        "\n",
        "def multi_table(a):\n",
        "\tfor i in range(1, 11):\n",
        "\t\tprint('{0} * {1} = {2}'. format(a, i, a*i))\n",
        "\n",
        "if __name__=='__main__':\n",
        "\ta= input('Enter a number: ')\n",
        "\tmulti_table(float(a))\n"
      ],
      "execution_count": 9,
      "outputs": [
        {
          "output_type": "stream",
          "text": [
            "Enter a number: 1532895\n",
            "1532895.0 * 1 = 1532895.0\n",
            "1532895.0 * 2 = 3065790.0\n",
            "1532895.0 * 3 = 4598685.0\n",
            "1532895.0 * 4 = 6131580.0\n",
            "1532895.0 * 5 = 7664475.0\n",
            "1532895.0 * 6 = 9197370.0\n",
            "1532895.0 * 7 = 10730265.0\n",
            "1532895.0 * 8 = 12263160.0\n",
            "1532895.0 * 9 = 13796055.0\n",
            "1532895.0 * 10 = 15328950.0\n"
          ],
          "name": "stdout"
        }
      ]
    },
    {
      "cell_type": "code",
      "metadata": {
        "id": "_sHoqbzoNDYj",
        "colab_type": "code",
        "colab": {
          "base_uri": "https://localhost:8080/",
          "height": 51
        },
        "outputId": "c414265a-b3ba-4987-da42-841dcb46e5d1"
      },
      "source": [
        "F= float(input('ingrese el valor de la temperatura en grados Farenheit'))\n",
        "(F-32)*(5/9)"
      ],
      "execution_count": 10,
      "outputs": [
        {
          "output_type": "stream",
          "text": [
            "ingrese el valor de la temperatura en grados Farenheit98.6\n"
          ],
          "name": "stdout"
        },
        {
          "output_type": "execute_result",
          "data": {
            "text/plain": [
              "37.0"
            ]
          },
          "metadata": {
            "tags": []
          },
          "execution_count": 10
        }
      ]
    },
    {
      "cell_type": "code",
      "metadata": {
        "id": "iEbTLdHUNuuW",
        "colab_type": "code",
        "colab": {
          "base_uri": "https://localhost:8080/",
          "height": 51
        },
        "outputId": "ca3aea81-2a73-4d62-b0b6-4e51127d7246"
      },
      "source": [
        "C= float(input('ingrese el valor de la temperatura en grados Centigrados'))\n",
        "round((C *(9/5) + 32),2)"
      ],
      "execution_count": 15,
      "outputs": [
        {
          "output_type": "stream",
          "text": [
            "ingrese el valor de la temperatura en grados Centigrados37\n"
          ],
          "name": "stdout"
        },
        {
          "output_type": "execute_result",
          "data": {
            "text/plain": [
              "98.6"
            ]
          },
          "metadata": {
            "tags": []
          },
          "execution_count": 15
        }
      ]
    },
    {
      "cell_type": "code",
      "metadata": {
        "id": "cvof04A0Voy0",
        "colab_type": "code",
        "colab": {
          "base_uri": "https://localhost:8080/",
          "height": 102
        },
        "outputId": "7d54146e-cfa7-48c4-e6ea-d0e1e9de35df"
      },
      "source": [
        "'''\n",
        "Unit converter: Miles and kilometers\n",
        "'''\n",
        "\n",
        "def print_menu():\n",
        "  print('1. Kilometers to Miles')\n",
        "  print('2.  Miles to Kilometers')\n",
        "\n",
        "def km_miles():\n",
        "    Km = float(input('Enter distance in Kilometers: '))\n",
        "    miles = Km / 1.609\n",
        "\n",
        "    print('Distance in miles:{0}'. format(miles))\n",
        "\n",
        "def miles_km():\n",
        "    miles = float(input('Enter distance in miles: '))\n",
        "    km = miles * 1.609\n",
        "\n",
        "    print('Distance in kilometers:{0}'. format(km))\n",
        "\n",
        "if __name__=='__main__':\n",
        "  print_menu()\n",
        "  choice = input('Which conversion would you like to do?: ')\n",
        "\n",
        "  if choice =='1':\n",
        "    km_miles()\n",
        "\n",
        "  if choice == '2':\n",
        "    miles_km()\n"
      ],
      "execution_count": 16,
      "outputs": [
        {
          "output_type": "stream",
          "text": [
            "1. Kilometers to Miles\n",
            "2.  Miles to Kilometers\n",
            "Which conversion would you like to do?: 1\n",
            "Enter distance in Kilometers: 1000\n",
            "Distance in miles:621.5040397762585\n"
          ],
          "name": "stdout"
        }
      ]
    },
    {
      "cell_type": "code",
      "metadata": {
        "id": "Uv4zNQwhY8bw",
        "colab_type": "code",
        "colab": {
          "base_uri": "https://localhost:8080/",
          "height": 51
        },
        "outputId": "32a81e06-d6f1-40fe-b878-8b21cce7eb58"
      },
      "source": [
        "# Python program to check if the input number is odd or even.\n",
        "# A number is even if division by 2 gives a remainder of 0.\n",
        "# If the remainder is 1, it is an odd number.\n",
        "\n",
        "num = int(input(\"Enter a number: \"))\n",
        "if (num % 2) == 0:\n",
        "   print(\"{0} is Even\".format(num))\n",
        "else:\n",
        "   print(\"{0} is Odd\".format(num))"
      ],
      "execution_count": 18,
      "outputs": [
        {
          "output_type": "stream",
          "text": [
            "Enter a number: 15\n",
            "15 is Odd\n"
          ],
          "name": "stdout"
        }
      ]
    },
    {
      "cell_type": "code",
      "metadata": {
        "id": "HcRcYpmTZQzI",
        "colab_type": "code",
        "colab": {
          "base_uri": "https://localhost:8080/",
          "height": 221
        },
        "outputId": "81477f78-90e7-4fcf-f27f-9328a94710a0"
      },
      "source": [
        "#Try writing an \"even-odd vending machine,\" which will take a number as input and do two things\n",
        " # print wheter the number is even or odd\n",
        " # Display the number followed by the next 9 even or odd numbers\n",
        "\n",
        "num = int(input(\"Enter a number: \"))\n",
        "if (num % 2) == 0:\n",
        "   print(\"{0} is Even\".format(num))\n",
        "\n",
        "  \n",
        "else:\n",
        "   print(\"{0} is Odd\".format(num))\n",
        "\n",
        "for i in range(num, (num + 19), 2):\n",
        "     print( str(i) + \" \")\n",
        "\n",
        "\n"
      ],
      "execution_count": 31,
      "outputs": [
        {
          "output_type": "stream",
          "text": [
            "Enter a number: 5\n",
            "5 is Odd\n",
            "5 \n",
            "7 \n",
            "9 \n",
            "11 \n",
            "13 \n",
            "15 \n",
            "17 \n",
            "19 \n",
            "21 \n",
            "23 \n"
          ],
          "name": "stdout"
        }
      ]
    },
    {
      "cell_type": "code",
      "metadata": {
        "id": "X9F9-Hq7hG5M",
        "colab_type": "code",
        "colab": {
          "base_uri": "https://localhost:8080/",
          "height": 282
        },
        "outputId": "7cf986cb-5957-4f73-aa8e-2625f4e82fe3"
      },
      "source": [
        "x_numbers = [1, 2, 3]\n",
        "y_numbers = [2, 4, 6]\n",
        "from pylab import plot, show\n",
        "plot(x_numbers, y_numbers, marker='o')"
      ],
      "execution_count": 37,
      "outputs": [
        {
          "output_type": "execute_result",
          "data": {
            "text/plain": [
              "[<matplotlib.lines.Line2D at 0x7feb55e90438>]"
            ]
          },
          "metadata": {
            "tags": []
          },
          "execution_count": 37
        },
        {
          "output_type": "display_data",
          "data": {
            "image/png": "[encoded data removed]",
            "text/plain": [
              "<Figure size 432x288 with 1 Axes>"
            ]
          },
          "metadata": {
            "tags": [],
            "needs_background": "light"
          }
        }
      ]
    }
  ]
}